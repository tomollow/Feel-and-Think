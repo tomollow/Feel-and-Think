{
  "nbformat": 4,
  "nbformat_minor": 0,
  "metadata": {
    "colab": {
      "provenance": [],
      "toc_visible": true,
      "authorship_tag": "ABX9TyNVYr/dPJ/kbFqa45KUntJ+",
      "include_colab_link": true
    },
    "kernelspec": {
      "name": "python3",
      "display_name": "Python 3"
    },
    "language_info": {
      "name": "python"
    }
  },
  "cells": [
    {
      "cell_type": "markdown",
      "metadata": {
        "id": "view-in-github",
        "colab_type": "text"
      },
      "source": [
        "<a href=\"https://colab.research.google.com/github/tomollow/Feel-and-Think/blob/main/%E8%87%AA%E5%B7%B1%E7%AC%A6%E5%8F%B7%E5%8C%96%E5%99%A8.ipynb\" target=\"_parent\"><img src=\"https://colab.research.google.com/assets/colab-badge.svg\" alt=\"Open In Colab\"/></a>"
      ]
    },
    {
      "cell_type": "code",
      "execution_count": 2,
      "metadata": {
        "colab": {
          "base_uri": "https://localhost:8080/"
        },
        "id": "D5gl9kCzQxVj",
        "outputId": "e8b2b98c-8122-48cb-fdf4-aa07978bcfd8"
      },
      "outputs": [
        {
          "output_type": "stream",
          "name": "stdout",
          "text": [
            "Downloading http://yann.lecun.com/exdb/mnist/train-images-idx3-ubyte.gz\n",
            "Downloading http://yann.lecun.com/exdb/mnist/train-images-idx3-ubyte.gz to ./data/MNIST/raw/train-images-idx3-ubyte.gz\n"
          ]
        },
        {
          "output_type": "stream",
          "name": "stderr",
          "text": [
            "100%|██████████| 9912422/9912422 [00:00<00:00, 88634531.90it/s]\n"
          ]
        },
        {
          "output_type": "stream",
          "name": "stdout",
          "text": [
            "Extracting ./data/MNIST/raw/train-images-idx3-ubyte.gz to ./data/MNIST/raw\n",
            "\n",
            "Downloading http://yann.lecun.com/exdb/mnist/train-labels-idx1-ubyte.gz\n",
            "Downloading http://yann.lecun.com/exdb/mnist/train-labels-idx1-ubyte.gz to ./data/MNIST/raw/train-labels-idx1-ubyte.gz\n"
          ]
        },
        {
          "output_type": "stream",
          "name": "stderr",
          "text": [
            "100%|██████████| 28881/28881 [00:00<00:00, 51701107.05it/s]"
          ]
        },
        {
          "output_type": "stream",
          "name": "stdout",
          "text": [
            "Extracting ./data/MNIST/raw/train-labels-idx1-ubyte.gz to ./data/MNIST/raw\n",
            "\n",
            "Downloading http://yann.lecun.com/exdb/mnist/t10k-images-idx3-ubyte.gz\n",
            "Downloading http://yann.lecun.com/exdb/mnist/t10k-images-idx3-ubyte.gz to ./data/MNIST/raw/t10k-images-idx3-ubyte.gz\n"
          ]
        },
        {
          "output_type": "stream",
          "name": "stderr",
          "text": [
            "\n",
            "100%|██████████| 1648877/1648877 [00:00<00:00, 26333713.08it/s]\n"
          ]
        },
        {
          "output_type": "stream",
          "name": "stdout",
          "text": [
            "Extracting ./data/MNIST/raw/t10k-images-idx3-ubyte.gz to ./data/MNIST/raw\n",
            "\n",
            "Downloading http://yann.lecun.com/exdb/mnist/t10k-labels-idx1-ubyte.gz\n",
            "Downloading http://yann.lecun.com/exdb/mnist/t10k-labels-idx1-ubyte.gz to ./data/MNIST/raw/t10k-labels-idx1-ubyte.gz\n"
          ]
        },
        {
          "output_type": "stream",
          "name": "stderr",
          "text": [
            "100%|██████████| 4542/4542 [00:00<00:00, 8675104.17it/s]"
          ]
        },
        {
          "output_type": "stream",
          "name": "stdout",
          "text": [
            "Extracting ./data/MNIST/raw/t10k-labels-idx1-ubyte.gz to ./data/MNIST/raw\n",
            "\n"
          ]
        },
        {
          "output_type": "stream",
          "name": "stderr",
          "text": [
            "\n"
          ]
        },
        {
          "output_type": "execute_result",
          "data": {
            "text/plain": [
              "torch.Size([128, 1, 28, 28])"
            ]
          },
          "metadata": {},
          "execution_count": 2
        }
      ],
      "source": [
        "import torch\n",
        "import torch.nn as nn\n",
        "import torch.nn.functional as F\n",
        "import torch.optim as optim\n",
        "from torchvision import datasets, transforms\n",
        "\n",
        "# データの変換と正規化\n",
        "transform = transforms.Compose([\n",
        "    transforms.ToTensor(),\n",
        "    transforms.Normalize((0.5,), (0.5,))\n",
        "])\n",
        "\n",
        "# MNISTデータセットのロード\n",
        "train_dataset = datasets.MNIST('./data', train=True, download=True, transform=transform)\n",
        "test_dataset = datasets.MNIST('./data', train=False, transform=transform)\n",
        "\n",
        "train_loader = torch.utils.data.DataLoader(train_dataset, batch_size=128, shuffle=True)\n",
        "test_loader = torch.utils.data.DataLoader(test_dataset, batch_size=128, shuffle=False)\n",
        "\n",
        "# 確認\n",
        "next(iter(train_loader))[0].shape\n"
      ]
    },
    {
      "cell_type": "code",
      "source": [
        "# 自己符号化器の定義\n",
        "class Autoencoder(nn.Module):\n",
        "    def __init__(self):\n",
        "        super(Autoencoder, self).__init__()\n",
        "        # エンコーダ\n",
        "        self.encoder = nn.Sequential(\n",
        "            nn.Linear(28 * 28, 32),\n",
        "            nn.ReLU(),\n",
        "            #nn.Linear(128, 64),\n",
        "            #nn.ReLU(),\n",
        "            nn.Linear(32, 32),\n",
        "            nn.ReLU()\n",
        "        )\n",
        "        # デコーダ\n",
        "        self.decoder = nn.Sequential(\n",
        "            nn.Linear(32, 32),\n",
        "            #nn.ReLU(),\n",
        "            #nn.Linear(64, 128),\n",
        "            nn.ReLU(),\n",
        "            nn.Linear(32, 28 * 28),\n",
        "            nn.Tanh()\n",
        "        )\n",
        "\n",
        "    def forward(self, x):\n",
        "        x = self.encoder(x)\n",
        "        x = self.decoder(x)\n",
        "        return x\n",
        "\n",
        "# 自己符号化器のモデルを再構築\n",
        "model = Autoencoder()\n",
        "\n",
        "# 損失関数と最適化手法の再定義\n",
        "criterion = nn.MSELoss()\n",
        "optimizer = optim.Adam(model.parameters(), lr=0.001)\n",
        "\n",
        "# 訓練関数の再定義\n",
        "def train(model, train_loader, criterion, optimizer, num_epochs):\n",
        "    model.train()\n",
        "    train_losses = []\n",
        "    for epoch in range(num_epochs):\n",
        "        epoch_losses = []\n",
        "        for batch_idx, (data, _) in enumerate(train_loader):\n",
        "            data = data.view(data.size(0), -1)\n",
        "\n",
        "            optimizer.zero_grad()\n",
        "            outputs = model(data)\n",
        "            loss = criterion(outputs, data)\n",
        "            loss.backward()\n",
        "            optimizer.step()\n",
        "\n",
        "            epoch_losses.append(loss.item())\n",
        "\n",
        "        train_losses.append(np.mean(epoch_losses))\n",
        "        print(f\"Epoch [{epoch+1}/{num_epochs}], Loss: {train_losses[-1]:.4f}\")\n",
        "\n",
        "    return train_losses\n",
        "\n",
        "# モデルの訓練\n",
        "num_epochs = 10\n",
        "train_losses = train(model, train_loader, criterion, optimizer, num_epochs)\n",
        "\n",
        "# 訓練の損失をプロット\n",
        "plt.plot(train_losses)\n",
        "plt.xlabel('Epoch')\n",
        "plt.ylabel('Loss')\n",
        "plt.title('Training Loss')\n",
        "plt.show()\n"
      ],
      "metadata": {
        "colab": {
          "base_uri": "https://localhost:8080/",
          "height": 646
        },
        "id": "f7XEPYYLRKNL",
        "outputId": "c6a638be-c83c-427a-cd9f-1bd4f54b366a"
      },
      "execution_count": 7,
      "outputs": [
        {
          "output_type": "stream",
          "name": "stdout",
          "text": [
            "Epoch [1/10], Loss: 0.2258\n",
            "Epoch [2/10], Loss: 0.1250\n",
            "Epoch [3/10], Loss: 0.1138\n",
            "Epoch [4/10], Loss: 0.1099\n",
            "Epoch [5/10], Loss: 0.1080\n",
            "Epoch [6/10], Loss: 0.1067\n",
            "Epoch [7/10], Loss: 0.1055\n",
            "Epoch [8/10], Loss: 0.1045\n",
            "Epoch [9/10], Loss: 0.1035\n",
            "Epoch [10/10], Loss: 0.1025\n"
          ]
        },
        {
          "output_type": "display_data",
          "data": {
            "text/plain": [
              "<Figure size 640x480 with 1 Axes>"
            ],
            "image/png": "[encoded data removed]"
          },
          "metadata": {}
        }
      ]
    },
    {
      "cell_type": "code",
      "source": [
        "# モデルの評価関数の定義\n",
        "def evaluate(model, test_loader):\n",
        "    model.eval()\n",
        "    reconstructed_images = []\n",
        "    original_images = []\n",
        "    with torch.no_grad():\n",
        "        for batch_idx, (data, _) in enumerate(test_loader):\n",
        "            data = data.view(data.size(0), -1)\n",
        "            outputs = model(data)\n",
        "            reconstructed_images.append(outputs.view(outputs.size(0), 28, 28))\n",
        "            original_images.append(data.view(data.size(0), 28, 28))\n",
        "            if batch_idx == 0:\n",
        "                break  # 1バッチ分のデータのみ評価\n",
        "\n",
        "    return original_images[0], reconstructed_images[0]\n",
        "\n",
        "# モデルの評価と画像の再構築\n",
        "original_imgs, reconstructed_imgs = evaluate(model, test_loader)\n",
        "\n",
        "# 元の画像と再構築された画像を並べて表示\n",
        "n = 10  # 表示する画像の数\n",
        "plt.figure(figsize=(20, 4))\n",
        "\n",
        "for i in range(n):\n",
        "    # 元の画像\n",
        "    ax = plt.subplot(2, n, i + 1)\n",
        "    plt.imshow(original_imgs[i].reshape(28, 28).detach().numpy(), cmap='gray')\n",
        "    ax.axis('off')\n",
        "\n",
        "    # 再構築された画像\n",
        "    ax = plt.subplot(2, n, i + 1 + n)\n",
        "    plt.imshow(reconstructed_imgs[i].reshape(28, 28).detach().numpy(), cmap='gray')\n",
        "    ax.axis('off')\n",
        "\n",
        "plt.show()\n"
      ],
      "metadata": {
        "colab": {
          "base_uri": "https://localhost:8080/",
          "height": 192
        },
        "id": "lBe_oGf6w_a7",
        "outputId": "585a0052-a902-4932-c434-aa119c5de5f5"
      },
      "execution_count": 8,
      "outputs": [
        {
          "output_type": "display_data",
          "data": {
            "text/plain": [
              "<Figure size 2000x400 with 20 Axes>"
            ],
            "image/png": "[encoded data removed]"
          },
          "metadata": {}
        }
      ]
    }
  ]
}