{
  "nbformat": 4,
  "nbformat_minor": 0,
  "metadata": {
    "colab": {
      "provenance": [],
      "toc_visible": true,
      "authorship_tag": "ABX9TyO/qjKhuPh4Pc+U/EAuJ06G",
      "include_colab_link": true
    },
    "kernelspec": {
      "name": "python3",
      "display_name": "Python 3"
    },
    "language_info": {
      "name": "python"
    }
  },
  "cells": [
    {
      "cell_type": "markdown",
      "metadata": {
        "id": "view-in-github",
        "colab_type": "text"
      },
      "source": [
        "<a href=\"https://colab.research.google.com/github/tomollow/Feel-and-Think/blob/main/%E8%87%AA%E5%B7%B1%E7%AC%A6%E5%8F%B7%E5%8C%96%E5%99%A8.ipynb\" target=\"_parent\"><img src=\"https://colab.research.google.com/assets/colab-badge.svg\" alt=\"Open In Colab\"/></a>"
      ]
    },
    {
      "cell_type": "markdown",
      "source": [
        "### インポート"
      ],
      "metadata": {
        "id": "zGqmPyKLZp8y"
      }
    },
    {
      "cell_type": "code",
      "source": [
        "import torch\n",
        "import torch.nn as nn\n",
        "import torch.nn.functional as F\n",
        "import torch.optim as optim\n",
        "from torchvision import datasets, transforms\n",
        "import numpy as np\n",
        "import matplotlib.pyplot as plt"
      ],
      "metadata": {
        "id": "f4rnuCmpZx0x"
      },
      "execution_count": 13,
      "outputs": []
    },
    {
      "cell_type": "markdown",
      "source": [
        "# データの変換と正規化"
      ],
      "metadata": {
        "id": "7CAGT7wrZslB"
      }
    },
    {
      "cell_type": "code",
      "source": [
        "# データの変換と正規化\n",
        "transform = transforms.Compose([\n",
        "    transforms.ToTensor(),\n",
        "    transforms.Normalize((0.5,), (0.5,))\n",
        "])"
      ],
      "metadata": {
        "id": "75WAQvR5ZzN0"
      },
      "execution_count": 2,
      "outputs": []
    },
    {
      "cell_type": "markdown",
      "source": [
        "# MNISTデータセットのロード"
      ],
      "metadata": {
        "id": "_UFTD24TZu7o"
      }
    },
    {
      "cell_type": "code",
      "source": [
        "# MNISTデータセットのロード\n",
        "train_dataset = datasets.MNIST('./data', train=True, download=True, transform=transform)\n",
        "test_dataset = datasets.MNIST('./data', train=False, transform=transform)\n",
        "\n",
        "train_loader = torch.utils.data.DataLoader(train_dataset, batch_size=128, shuffle=True)\n",
        "test_loader = torch.utils.data.DataLoader(test_dataset, batch_size=128, shuffle=False)"
      ],
      "metadata": {
        "colab": {
          "base_uri": "https://localhost:8080/"
        },
        "id": "gPehyqbnZ03z",
        "outputId": "ab99a32c-8d84-49c7-f18d-5062109bc495"
      },
      "execution_count": 3,
      "outputs": [
        {
          "output_type": "stream",
          "name": "stdout",
          "text": [
            "Downloading http://yann.lecun.com/exdb/mnist/train-images-idx3-ubyte.gz\n",
            "Downloading http://yann.lecun.com/exdb/mnist/train-images-idx3-ubyte.gz to ./data/MNIST/raw/train-images-idx3-ubyte.gz\n"
          ]
        },
        {
          "output_type": "stream",
          "name": "stderr",
          "text": [
            "100%|██████████| 9912422/9912422 [00:00<00:00, 386743607.04it/s]"
          ]
        },
        {
          "output_type": "stream",
          "name": "stdout",
          "text": [
            "Extracting ./data/MNIST/raw/train-images-idx3-ubyte.gz to ./data/MNIST/raw\n"
          ]
        },
        {
          "output_type": "stream",
          "name": "stderr",
          "text": [
            "\n"
          ]
        },
        {
          "output_type": "stream",
          "name": "stdout",
          "text": [
            "\n",
            "Downloading http://yann.lecun.com/exdb/mnist/train-labels-idx1-ubyte.gz\n",
            "Downloading http://yann.lecun.com/exdb/mnist/train-labels-idx1-ubyte.gz to ./data/MNIST/raw/train-labels-idx1-ubyte.gz\n"
          ]
        },
        {
          "output_type": "stream",
          "name": "stderr",
          "text": [
            "100%|██████████| 28881/28881 [00:00<00:00, 27898593.70it/s]\n"
          ]
        },
        {
          "output_type": "stream",
          "name": "stdout",
          "text": [
            "Extracting ./data/MNIST/raw/train-labels-idx1-ubyte.gz to ./data/MNIST/raw\n",
            "\n",
            "Downloading http://yann.lecun.com/exdb/mnist/t10k-images-idx3-ubyte.gz\n",
            "Downloading http://yann.lecun.com/exdb/mnist/t10k-images-idx3-ubyte.gz to ./data/MNIST/raw/t10k-images-idx3-ubyte.gz\n"
          ]
        },
        {
          "output_type": "stream",
          "name": "stderr",
          "text": [
            "100%|██████████| 1648877/1648877 [00:00<00:00, 145087616.10it/s]"
          ]
        },
        {
          "output_type": "stream",
          "name": "stdout",
          "text": [
            "Extracting ./data/MNIST/raw/t10k-images-idx3-ubyte.gz to ./data/MNIST/raw\n",
            "\n",
            "Downloading http://yann.lecun.com/exdb/mnist/t10k-labels-idx1-ubyte.gz\n",
            "Downloading http://yann.lecun.com/exdb/mnist/t10k-labels-idx1-ubyte.gz to ./data/MNIST/raw/t10k-labels-idx1-ubyte.gz\n"
          ]
        },
        {
          "output_type": "stream",
          "name": "stderr",
          "text": [
            "\n",
            "100%|██████████| 4542/4542 [00:00<00:00, 17704952.39it/s]\n"
          ]
        },
        {
          "output_type": "stream",
          "name": "stdout",
          "text": [
            "Extracting ./data/MNIST/raw/t10k-labels-idx1-ubyte.gz to ./data/MNIST/raw\n",
            "\n"
          ]
        }
      ]
    },
    {
      "cell_type": "markdown",
      "source": [
        "# 確認"
      ],
      "metadata": {
        "id": "vWKfPh2MZwgj"
      }
    },
    {
      "cell_type": "code",
      "execution_count": 4,
      "metadata": {
        "colab": {
          "base_uri": "https://localhost:8080/"
        },
        "id": "D5gl9kCzQxVj",
        "outputId": "f9a80d91-1441-4c8e-e92f-9adff14af309"
      },
      "outputs": [
        {
          "output_type": "execute_result",
          "data": {
            "text/plain": [
              "torch.Size([128, 1, 28, 28])"
            ]
          },
          "metadata": {},
          "execution_count": 4
        }
      ],
      "source": [
        "# 確認\n",
        "next(iter(train_loader))[0].shape"
      ]
    },
    {
      "cell_type": "markdown",
      "source": [
        "### 自己符号化器の定義"
      ],
      "metadata": {
        "id": "32A6D62tZ4g2"
      }
    },
    {
      "cell_type": "code",
      "source": [
        "# 自己符号化器の定義\n",
        "class Autoencoder(nn.Module):\n",
        "    def __init__(self):\n",
        "        super(Autoencoder, self).__init__()\n",
        "        # エンコーダ\n",
        "        self.encoder = nn.Sequential(\n",
        "            nn.Linear(28 * 28, 32),\n",
        "            nn.ReLU(),\n",
        "            #nn.Linear(128, 64),\n",
        "            #nn.ReLU(),\n",
        "            nn.Linear(32, 32),\n",
        "            nn.ReLU()\n",
        "        )\n",
        "        # デコーダ\n",
        "        self.decoder = nn.Sequential(\n",
        "            nn.Linear(32, 32),\n",
        "            #nn.ReLU(),\n",
        "            #nn.Linear(64, 128),\n",
        "            nn.ReLU(),\n",
        "            nn.Linear(32, 28 * 28),\n",
        "            nn.Tanh()\n",
        "        )\n",
        "\n",
        "    def forward(self, x):\n",
        "        x = self.encoder(x)\n",
        "        x = self.decoder(x)\n",
        "        return x"
      ],
      "metadata": {
        "id": "DEjx69bhaE-u"
      },
      "execution_count": 5,
      "outputs": []
    },
    {
      "cell_type": "markdown",
      "source": [
        "### 自己符号化器のモデルを再構築"
      ],
      "metadata": {
        "id": "Bi_7GsWgZ9Ap"
      }
    },
    {
      "cell_type": "code",
      "source": [
        "# 自己符号化器のモデルを再構築\n",
        "model = Autoencoder()"
      ],
      "metadata": {
        "id": "v5JpByxgaG8u"
      },
      "execution_count": 6,
      "outputs": []
    },
    {
      "cell_type": "markdown",
      "source": [
        "### 損失関数と最適化手法の再定義"
      ],
      "metadata": {
        "id": "uKR7nl6TZ_LM"
      }
    },
    {
      "cell_type": "code",
      "source": [
        "# 損失関数と最適化手法の再定義\n",
        "criterion = nn.MSELoss()\n",
        "optimizer = optim.Adam(model.parameters(), lr=0.001)"
      ],
      "metadata": {
        "id": "HWCwkHXfaIeZ"
      },
      "execution_count": 7,
      "outputs": []
    },
    {
      "cell_type": "markdown",
      "source": [
        "### 訓練関数の再定義"
      ],
      "metadata": {
        "id": "3DvHKydFaBwL"
      }
    },
    {
      "cell_type": "code",
      "source": [
        "# 訓練関数の再定義\n",
        "def train(model, train_loader, criterion, optimizer, num_epochs):\n",
        "    model.train()\n",
        "    train_losses = []\n",
        "    for epoch in range(num_epochs):\n",
        "        epoch_losses = []\n",
        "        for batch_idx, (data, _) in enumerate(train_loader):\n",
        "            data = data.view(data.size(0), -1)\n",
        "\n",
        "            optimizer.zero_grad()\n",
        "            outputs = model(data)\n",
        "            loss = criterion(outputs, data)\n",
        "            loss.backward()\n",
        "            optimizer.step()\n",
        "\n",
        "            epoch_losses.append(loss.item())\n",
        "\n",
        "        train_losses.append(np.mean(epoch_losses))\n",
        "        print(f\"Epoch [{epoch+1}/{num_epochs}], Loss: {train_losses[-1]:.4f}\")\n",
        "\n",
        "    return train_losses"
      ],
      "metadata": {
        "id": "tPAN1C7paJf7"
      },
      "execution_count": 8,
      "outputs": []
    },
    {
      "cell_type": "markdown",
      "source": [
        "### モデルの訓練"
      ],
      "metadata": {
        "id": "G40wicYQaMnj"
      }
    },
    {
      "cell_type": "code",
      "source": [
        "# モデルの訓練\n",
        "num_epochs = 10\n",
        "train_losses = train(model, train_loader, criterion, optimizer, num_epochs)"
      ],
      "metadata": {
        "colab": {
          "base_uri": "https://localhost:8080/"
        },
        "id": "SuwuR4f4aOcI",
        "outputId": "a8922fa2-f508-4c9a-8c8f-c94223470fbb"
      },
      "execution_count": 11,
      "outputs": [
        {
          "output_type": "stream",
          "name": "stdout",
          "text": [
            "Epoch [1/10], Loss: 0.1357\n",
            "Epoch [2/10], Loss: 0.1252\n",
            "Epoch [3/10], Loss: 0.1215\n",
            "Epoch [4/10], Loss: 0.1195\n",
            "Epoch [5/10], Loss: 0.1175\n",
            "Epoch [6/10], Loss: 0.1145\n",
            "Epoch [7/10], Loss: 0.1125\n",
            "Epoch [8/10], Loss: 0.1103\n",
            "Epoch [9/10], Loss: 0.1087\n",
            "Epoch [10/10], Loss: 0.1076\n"
          ]
        }
      ]
    },
    {
      "cell_type": "markdown",
      "source": [
        "### 訓練の損失をプロット\n"
      ],
      "metadata": {
        "id": "CRlFZTm_aO75"
      }
    },
    {
      "cell_type": "code",
      "source": [
        "# 訓練の損失をプロット\n",
        "plt.plot(train_losses)\n",
        "plt.xlabel('Epoch')\n",
        "plt.ylabel('Loss')\n",
        "plt.title('Training Loss')\n",
        "plt.show()"
      ],
      "metadata": {
        "colab": {
          "base_uri": "https://localhost:8080/",
          "height": 472
        },
        "id": "f7XEPYYLRKNL",
        "outputId": "bfcd0412-1bde-4012-d3b4-9da07627a1ea"
      },
      "execution_count": 14,
      "outputs": [
        {
          "output_type": "display_data",
          "data": {
            "text/plain": [
              "<Figure size 640x480 with 1 Axes>"
            ],
            "image/png": "[encoded data removed]"
          },
          "metadata": {}
        }
      ]
    },
    {
      "cell_type": "markdown",
      "source": [
        "### モデルの評価関数の定義"
      ],
      "metadata": {
        "id": "Q8CjBbGxaUov"
      }
    },
    {
      "cell_type": "code",
      "source": [
        "# モデルの評価関数の定義\n",
        "def evaluate(model, test_loader):\n",
        "    model.eval()\n",
        "    reconstructed_images = []\n",
        "    original_images = []\n",
        "    with torch.no_grad():\n",
        "        for batch_idx, (data, _) in enumerate(test_loader):\n",
        "            data = data.view(data.size(0), -1)\n",
        "            outputs = model(data)\n",
        "            reconstructed_images.append(outputs.view(outputs.size(0), 28, 28))\n",
        "            original_images.append(data.view(data.size(0), 28, 28))\n",
        "            if batch_idx == 0:\n",
        "                break  # 1バッチ分のデータのみ評価\n",
        "\n",
        "    return original_images[0], reconstructed_images[0]"
      ],
      "metadata": {
        "id": "8UzeHlFDacep"
      },
      "execution_count": 15,
      "outputs": []
    },
    {
      "cell_type": "markdown",
      "source": [
        "### モデルの評価と画像の再構築"
      ],
      "metadata": {
        "id": "cSMFJsTGaXtR"
      }
    },
    {
      "cell_type": "code",
      "source": [
        "# モデルの評価と画像の再構築\n",
        "original_imgs, reconstructed_imgs = evaluate(model, test_loader)"
      ],
      "metadata": {
        "id": "tP8EGqAqaeOG"
      },
      "execution_count": 16,
      "outputs": []
    },
    {
      "cell_type": "markdown",
      "source": [
        "### 元の画像と再構築された画像を並べて表示"
      ],
      "metadata": {
        "id": "SG6Y0gizaaMY"
      }
    },
    {
      "cell_type": "code",
      "source": [
        "# 元の画像と再構築された画像を並べて表示\n",
        "n = 10  # 表示する画像の数\n",
        "plt.figure(figsize=(20, 4))\n",
        "\n",
        "for i in range(n):\n",
        "    # 元の画像\n",
        "    ax = plt.subplot(2, n, i + 1)\n",
        "    plt.imshow(original_imgs[i].reshape(28, 28).detach().numpy(), cmap='gray')\n",
        "    ax.axis('off')\n",
        "\n",
        "    # 再構築された画像\n",
        "    ax = plt.subplot(2, n, i + 1 + n)\n",
        "    plt.imshow(reconstructed_imgs[i].reshape(28, 28).detach().numpy(), cmap='gray')\n",
        "    ax.axis('off')\n",
        "\n",
        "plt.show()"
      ],
      "metadata": {
        "colab": {
          "base_uri": "https://localhost:8080/",
          "height": 192
        },
        "id": "lBe_oGf6w_a7",
        "outputId": "02c0eaaa-613e-48eb-859b-0bf6774ed1fd"
      },
      "execution_count": 17,
      "outputs": [
        {
          "output_type": "display_data",
          "data": {
            "text/plain": [
              "<Figure size 2000x400 with 20 Axes>"
            ],
            "image/png": "[encoded data removed]"
          },
          "metadata": {}
        }
      ]
    }
  ]
}